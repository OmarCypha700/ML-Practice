{
 "cells": [
  {
   "cell_type": "code",
   "execution_count": 2,
   "metadata": {},
   "outputs": [],
   "source": [
    "import requests"
   ]
  },
  {
   "cell_type": "code",
   "execution_count": 11,
   "metadata": {},
   "outputs": [],
   "source": [
    "url = 'http://localhost:9696/predict'"
   ]
  },
  {
   "cell_type": "code",
   "execution_count": 14,
   "metadata": {},
   "outputs": [],
   "source": [
    "customer = {\n",
    "\"gender\": \"male\",\n",
    " \"seniorcitizen\": 0,\n",
    " \"partner\": \"yes\",\n",
    " \"dependents\": \"yes\",\n",
    " \"phoneservice\": \"yes\",\n",
    " \"multiplelines\": \"no\",\n",
    " \"internetservice\": \"dsl\",\n",
    " \"onlinesecurity\": \"yes\",\n",
    " \"onlinebackup\": \"no\",\n",
    " \"deviceprotection\": \"no\",\n",
    " \"techsupport\": \"no\",\n",
    " \"streamingtv\": \"no\",\n",
    " \"streamingmovies\": \"no\",\n",
    " \"contract\": \"month-to-month\",\n",
    " \"paperlessbilling\": \"yes\",\n",
    " \"paymentmethod\": \"mailed_check\",\n",
    " \"monthlycharges\": 49.95,\n",
    " \"tenure\": 13,\n",
    " \"totalcharges\": 587.45}"
   ]
  },
  {
   "cell_type": "code",
   "execution_count": 17,
   "metadata": {},
   "outputs": [
    {
     "data": {
      "text/plain": [
       "{'churn': False, 'churn_probability': 0.228353323144756}"
      ]
     },
     "execution_count": 17,
     "metadata": {},
     "output_type": "execute_result"
    }
   ],
   "source": [
    "requests.post(url, json=customer).json()"
   ]
  },
  {
   "cell_type": "code",
   "execution_count": null,
   "metadata": {},
   "outputs": [],
   "source": []
  }
 ],
 "metadata": {
  "kernelspec": {
   "display_name": "Python 3",
   "language": "python",
   "name": "python3"
  },
  "language_info": {
   "codemirror_mode": {
    "name": "ipython",
    "version": 3
   },
   "file_extension": ".py",
   "mimetype": "text/x-python",
   "name": "python",
   "nbconvert_exporter": "python",
   "pygments_lexer": "ipython3",
   "version": "3.12.1"
  }
 },
 "nbformat": 4,
 "nbformat_minor": 2
}
